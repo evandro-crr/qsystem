{
 "cells": [
  {
   "cell_type": "markdown",
   "metadata": {},
   "source": [
    "# Shor's factoring algorithm"
   ]
  },
  {
   "cell_type": "code",
   "execution_count": 1,
   "metadata": {},
   "outputs": [],
   "source": [
    "from qsystem import QSystem, Gates\n",
    "from random import random, randint\n",
    "from math import log2, ceil, floor, gcd\n",
    "from IPython.display import display, Latex, Math"
   ]
  },
  {
   "cell_type": "code",
   "execution_count": 2,
   "metadata": {},
   "outputs": [
    {
     "data": {
      "text/latex": [
       "Factoring $N = 15$"
      ],
      "text/plain": [
       "<IPython.core.display.Latex object>"
      ]
     },
     "metadata": {},
     "output_type": "display_data"
    }
   ],
   "source": [
    "N = 15\n",
    "display(Latex('Factoring $N = {}$'.format(N)))"
   ]
  },
  {
   "cell_type": "markdown",
   "metadata": {},
   "source": [
    "## step 1: Random select an $a$ less than $N$ and coprime with $N$"
   ]
  },
  {
   "cell_type": "code",
   "execution_count": 3,
   "metadata": {},
   "outputs": [
    {
     "data": {
      "text/latex": [
       "$a = 7$"
      ],
      "text/plain": [
       "<IPython.core.display.Latex object>"
      ]
     },
     "metadata": {},
     "output_type": "display_data"
    }
   ],
   "source": [
    "a = 0\n",
    "while gcd(N, a) != 1 or a == 1:\n",
    "    a = floor(random() * 10000) % N\n",
    "display(Latex('$a = {}$'.format(a)))"
   ]
  },
  {
   "cell_type": "markdown",
   "metadata": {},
   "source": [
    "## step 2: use the quantum period-finding to find the period $r$ of the function $f(x) = a^x(\\text{mod}\\,n)$\n",
    "\n",
    "### Period-finding\n",
    "\n",
    "It will be necessary 2 quantum registers with size of \n",
    "$$n = \\lceil\\log_2(N+1)\\rceil$$\n",
    "and a quantum oracle that \n",
    "$$\\left|x\\right>\\left|0\\right>\n",
    "\\xrightarrow{\\text{POWN}}\n",
    "\\left|x\\right>\\left|a^x (\\text{mod}\\,N)\\right>$$"
   ]
  },
  {
   "cell_type": "code",
   "execution_count": 4,
   "metadata": {},
   "outputs": [
    {
     "data": {
      "text/latex": [
       "$n = 4$"
      ],
      "text/plain": [
       "<IPython.core.display.Latex object>"
      ]
     },
     "metadata": {},
     "output_type": "display_data"
    }
   ],
   "source": [
    "n = ceil(log2(N+1))\n",
    "display(Latex('$n = {}$'.format(n)))\n",
    "\n",
    "def POWN(n, a, N):\n",
    "    row, col, value = [], [], []\n",
    "    for x in range(2**n):\n",
    "        fx = pow(a, x, N)\n",
    "        row.append((x << n) | fx)\n",
    "        col.append(x << n)\n",
    "        value.append(1)\n",
    "    return row, col, value\n",
    "gates = Gates()        \n",
    "\n",
    "row, col, value = POWN(n, a, N)\n",
    "gates.make_mgate('POWN', n*2, row, col, value)"
   ]
  },
  {
   "cell_type": "markdown",
   "metadata": {},
   "source": [
    "### step 1: Prepare a superposition\n",
    "$$\\left|0\\right>\\left|0\\right>\n",
    "\\xrightarrow{H^{\\otimes n}}\n",
    "{1\\over\\sqrt{2^n}}\\sum_{x=0}^{2^{n}-1} \\left|x\\right>\\left|0\\right>\n",
    "$$"
   ]
  },
  {
   "cell_type": "code",
   "execution_count": 5,
   "metadata": {},
   "outputs": [
    {
     "name": "stdout",
     "output_type": "stream",
     "text": [
      "+0.250       |0000>|0000>\n",
      "+0.250       |0001>|0000>\n",
      "+0.250       |0010>|0000>\n",
      "+0.250       |0011>|0000>\n",
      "+0.250       |0100>|0000>\n",
      "+0.250       |0101>|0000>\n",
      "+0.250       |0110>|0000>\n",
      "+0.250       |0111>|0000>\n",
      "+0.250       |1000>|0000>\n",
      "+0.250       |1001>|0000>\n",
      "+0.250       |1010>|0000>\n",
      "+0.250       |1011>|0000>\n",
      "+0.250       |1100>|0000>\n",
      "+0.250       |1101>|0000>\n",
      "+0.250       |1110>|0000>\n",
      "+0.250       |1111>|0000>\n",
      "\n"
     ]
    }
   ],
   "source": [
    "seed = randint(0,10000)\n",
    "q = QSystem(n, gates, seed)\n",
    "q.add_ancillas(n)\n",
    "\n",
    "q.evol(gate='H', qbit=0, count=n)\n",
    "print(q)"
   ]
  },
  {
   "cell_type": "markdown",
   "metadata": {},
   "source": [
    "### step 2: Prepare a periodic superposition\n",
    "$$\n",
    "{1\\over\\sqrt{2^n}}\\sum_{x=0}^{2^{n}-1} \\left|x\\right>\\left|0\\right>\n",
    "\\xrightarrow{\\text{POWN}}\n",
    "{1\\over\\sqrt{2^n}}\\sum_{x=0}^{2^{n}-1}\n",
    "\\left|x\\right>\\left|a^x(\\text{mod}\\, N)\\right>\n",
    "$$"
   ]
  },
  {
   "cell_type": "code",
   "execution_count": 6,
   "metadata": {},
   "outputs": [
    {
     "name": "stdout",
     "output_type": "stream",
     "text": [
      "+0.250       |0000>|0001>\n",
      "+0.250       |0001>|0111>\n",
      "+0.250       |0010>|0100>\n",
      "+0.250       |0011>|1101>\n",
      "+0.250       |0100>|0001>\n",
      "+0.250       |0101>|0111>\n",
      "+0.250       |0110>|0100>\n",
      "+0.250       |0111>|1101>\n",
      "+0.250       |1000>|0001>\n",
      "+0.250       |1001>|0111>\n",
      "+0.250       |1010>|0100>\n",
      "+0.250       |1011>|1101>\n",
      "+0.250       |1100>|0001>\n",
      "+0.250       |1101>|0111>\n",
      "+0.250       |1110>|0100>\n",
      "+0.250       |1111>|1101>\n",
      "\n"
     ]
    }
   ],
   "source": [
    "q.evol(gate='POWN', qbit=0)\n",
    "print(q)"
   ]
  },
  {
   "cell_type": "markdown",
   "metadata": {},
   "source": [
    "### step 3 (optional): measure the second register\n",
    "help to understand the algorithm\n",
    "\n",
    "$$\n",
    "{1\\over\\sqrt{2^n}}\\sum_{x=0}^{2^{n}-1}\n",
    "\\left|x\\right>\\left|a^x(\\text{mod}\\, N)\\right>\n",
    "\\xrightarrow{\\text{measure}[n:2n]}\n",
    "\\sqrt{r\\over{2^n}}\\sum_{i=0}^{{2^{n}\\over r}-1}\n",
    "\\left|ir + x_0\\right>\\left|a^{x_0}(\\text{mod}\\, N)\\right>\n",
    "$$\n"
   ]
  },
  {
   "cell_type": "code",
   "execution_count": 7,
   "metadata": {},
   "outputs": [
    {
     "name": "stdout",
     "output_type": "stream",
     "text": [
      "+0.500       |0001>|0111>\n",
      "+0.500       |0101>|0111>\n",
      "+0.500       |1001>|0111>\n",
      "+0.500       |1101>|0111>\n",
      "\n"
     ]
    }
   ],
   "source": [
    "q.measure(qbit=n, count=n)\n",
    "print(q)"
   ]
  },
  {
   "cell_type": "markdown",
   "metadata": {},
   "source": [
    "### step 4: fourier transform of the first register\n",
    "$$\n",
    "\\sqrt{r\\over{2^n}}\\sum_{i=0}^{{2^{n}\\over r}-1}\n",
    "\\left|ir + x_0\\right>\n",
    "\\xrightarrow{\\text{QFT}_n}\n",
    "{1\\over\\sqrt{r}}\\sum_{i=0}^{r-1}\\left|i{2^n\\over r}\\right>\\phi_i\n",
    "$$"
   ]
  },
  {
   "cell_type": "code",
   "execution_count": 8,
   "metadata": {},
   "outputs": [
    {
     "name": "stdout",
     "output_type": "stream",
     "text": [
      "+0.500       |0000>|0111>\n",
      "      +0.500i|0100>|0111>\n",
      "-0.500       |1000>|0111>\n",
      "      -0.500i|1100>|0111>\n",
      "\n"
     ]
    }
   ],
   "source": [
    "q.qft(qbegin=0, qend=n)\n",
    "print(q)"
   ]
  },
  {
   "cell_type": "markdown",
   "metadata": {},
   "source": [
    "### step 5: measure the first register and repeat the algorithm to measure distincts multiples of $2^n\\over r$"
   ]
  },
  {
   "cell_type": "code",
   "execution_count": 9,
   "metadata": {},
   "outputs": [
    {
     "name": "stdout",
     "output_type": "stream",
     "text": [
      "measurements results = [0, 8, 0, 4]\n"
     ]
    }
   ],
   "source": [
    "q.measure(0, n)\n",
    "c = q.bits()[0:n]\n",
    "c = sum([m*2**i for m, i in zip(c, reversed(range(len(c))))])\n",
    "mea = [c]\n",
    "\n",
    "for _ in range(n-1):\n",
    "    seed = randint(0,10000)\n",
    "    q = QSystem(n, gates, seed)\n",
    "    q.add_ancillas(n)\n",
    "\n",
    "    q.evol('H', 0, n) # 1\n",
    "    q.evol('POWN', 0) # 2    \n",
    "    q.qft(0, n)       # 4\n",
    "    q.measure(0, n)   # 5\n",
    "\n",
    "    c = q.bits()[0:n]\n",
    "    c = sum([m*2**i for m, i in zip(c, reversed(range(len(c))))])\n",
    "    mea.append(c)\n",
    "print('measurements results =', mea)"
   ]
  },
  {
   "cell_type": "markdown",
   "metadata": {},
   "source": [
    "### step 6: with the measurements compute \n",
    "$$\n",
    "r = {2^n\\over\\gcd(\\text{measurements})}\n",
    "$$"
   ]
  },
  {
   "cell_type": "code",
   "execution_count": 10,
   "metadata": {},
   "outputs": [
    {
     "data": {
      "text/latex": [
       "possible period $r = 4.0$"
      ],
      "text/plain": [
       "<IPython.core.display.Latex object>"
      ]
     },
     "metadata": {},
     "output_type": "display_data"
    }
   ],
   "source": [
    "c = mea[0]\n",
    "for m in mea:\n",
    "    c = gcd(c, m)\n",
    "if c == 0:\n",
    "    print('repite the period-finding algorithm')\n",
    "else:\n",
    "    r = 2**n/c\n",
    "    display(Latex('possible period $r = {}$'.format(r)))"
   ]
  },
  {
   "cell_type": "markdown",
   "metadata": {},
   "source": [
    "## step 3: if $r$ is odd go to step 1 else compute the two nontrivial factors of $N$, $pq = N$\n",
    "$$\n",
    "p = \\gcd(a^{r\\over2}-1, N)\n",
    "$$\n",
    "$$\n",
    "q = \\gcd(a^{r\\over2}+1, N)\n",
    "$$"
   ]
  },
  {
   "cell_type": "code",
   "execution_count": 11,
   "metadata": {},
   "outputs": [
    {
     "data": {
      "text/latex": [
       "$\\displaystyle 5*3=15$"
      ],
      "text/plain": [
       "<IPython.core.display.Math object>"
      ]
     },
     "metadata": {},
     "output_type": "display_data"
    }
   ],
   "source": [
    "if c == 0:\n",
    "    print('repite the period-finding algorithm')\n",
    "elif r % 2 == 1:\n",
    "    print('go to step 1')\n",
    "else: \n",
    "    p = gcd(int(a**(r/2)+1), N)\n",
    "    q = gcd(int(a**(r/2)-1), N)\n",
    "    display(Math('{}*{}={}'.format(p,q,p*q)))"
   ]
  }
 ],
 "metadata": {
  "kernelspec": {
   "display_name": "Python 3",
   "language": "python",
   "name": "python3"
  },
  "language_info": {
   "codemirror_mode": {
    "name": "ipython",
    "version": 3
   },
   "file_extension": ".py",
   "mimetype": "text/x-python",
   "name": "python",
   "nbconvert_exporter": "python",
   "pygments_lexer": "ipython3",
   "version": "3.7.2"
  }
 },
 "nbformat": 4,
 "nbformat_minor": 2
}
