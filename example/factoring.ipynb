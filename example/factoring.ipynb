{
 "cells": [
  {
   "cell_type": "markdown",
   "metadata": {},
   "source": [
    "# Shor's factoring algorithm"
   ]
  },
  {
   "cell_type": "code",
   "execution_count": 1,
   "metadata": {},
   "outputs": [],
   "source": [
    "from qsystem import QSystem, Gates\n",
    "from random import randint\n",
    "from math import log2, ceil, floor, gcd\n",
    "from IPython.display import display, Latex, Math"
   ]
  },
  {
   "cell_type": "code",
   "execution_count": 2,
   "metadata": {},
   "outputs": [
    {
     "data": {
      "text/latex": [
       "Factoring $N = 15$"
      ],
      "text/plain": [
       "<IPython.core.display.Latex object>"
      ]
     },
     "execution_count": 2,
     "metadata": {},
     "output_type": "execute_result"
    }
   ],
   "source": [
    "N = 15\n",
    "Latex('Factoring $N = {}$'.format(N))"
   ]
  },
  {
   "cell_type": "markdown",
   "metadata": {},
   "source": [
    "## step 1: Random select an $a$ less than $N$ and coprime with $N$"
   ]
  },
  {
   "cell_type": "code",
   "execution_count": 3,
   "metadata": {},
   "outputs": [
    {
     "data": {
      "text/latex": [
       "$\\displaystyle a = 13$"
      ],
      "text/plain": [
       "<IPython.core.display.Math object>"
      ]
     },
     "execution_count": 3,
     "metadata": {},
     "output_type": "execute_result"
    }
   ],
   "source": [
    "a = 0\n",
    "while gcd(N, a) != 1 or a == 1:\n",
    "    a = randint(2, N)\n",
    "Math('a = {}'.format(a))"
   ]
  },
  {
   "cell_type": "markdown",
   "metadata": {},
   "source": [
    "## step 2: use the quantum period-finding to find the period $r$ of the function $f(x) = a^x \\mod N$\n",
    "\n",
    "### Period-finding\n",
    "\n",
    "It will be necessary 2 quantum registers with size of \n",
    "$$n = \\lceil\\log_2(N+1)\\rceil$$"
   ]
  },
  {
   "cell_type": "code",
   "execution_count": 4,
   "metadata": {},
   "outputs": [
    {
     "data": {
      "text/latex": [
       "$\\displaystyle n = 4$"
      ],
      "text/plain": [
       "<IPython.core.display.Math object>"
      ]
     },
     "execution_count": 4,
     "metadata": {},
     "output_type": "execute_result"
    }
   ],
   "source": [
    "n = ceil(log2(N+1))\n",
    "Math('n = {}'.format(n))"
   ]
  },
  {
   "cell_type": "markdown",
   "metadata": {},
   "source": [
    "and a quantum oracle 'POWN' that \n",
    "$$\\left|x\\right>\\left|0\\right>\n",
    "\\xrightarrow{\\text{POWN}}\n",
    "\\left|x\\right>\\left|a^x (\\text{mod}\\,N)\\right>$$"
   ]
  },
  {
   "cell_type": "code",
   "execution_count": 5,
   "metadata": {},
   "outputs": [],
   "source": [
    "gates = Gates()        \n",
    "\n",
    "def pown(x):\n",
    "    x = x >> n\n",
    "    fx = pow(a, x, N)\n",
    "    return (x << n) | fx\n",
    "\n",
    "def it():\n",
    "    for x in range(2**n):\n",
    "        yield x << n\n",
    "    \n",
    "gates.make_fgate('POWN', pown, 2*n, it())"
   ]
  },
  {
   "cell_type": "code",
   "execution_count": 6,
   "metadata": {},
   "outputs": [
    {
     "name": "stdout",
     "output_type": "stream",
     "text": [
      "init first register at\n",
      "+1.000       |0000>\n",
      "\n"
     ]
    }
   ],
   "source": [
    "seed = randint(0,10000)\n",
    "q = QSystem(n, gates, seed)\n",
    "\n",
    "print('init first register at')\n",
    "print(q)"
   ]
  },
  {
   "cell_type": "markdown",
   "metadata": {},
   "source": [
    "### step 1: Prepare a superposition\n",
    "$$\\left|0\\right>\\left|0\\right>\n",
    "\\xrightarrow{H^{\\otimes n}}\n",
    "{1\\over\\sqrt{2^n}}\\sum_{x=0}^{2^{n}-1} \\left|x\\right>\\left|0\\right>\n",
    "$$"
   ]
  },
  {
   "cell_type": "code",
   "execution_count": 7,
   "metadata": {},
   "outputs": [
    {
     "name": "stdout",
     "output_type": "stream",
     "text": [
      "+0.250       |0000>\n",
      "+0.250       |0001>\n",
      "+0.250       |0010>\n",
      "+0.250       |0011>\n",
      "+0.250       |0100>\n",
      "+0.250       |0101>\n",
      "+0.250       |0110>\n",
      "+0.250       |0111>\n",
      "+0.250       |1000>\n",
      "+0.250       |1001>\n",
      "+0.250       |1010>\n",
      "+0.250       |1011>\n",
      "+0.250       |1100>\n",
      "+0.250       |1101>\n",
      "+0.250       |1110>\n",
      "+0.250       |1111>\n",
      "\n"
     ]
    }
   ],
   "source": [
    "q.evol(gate='H', qbit=0, count=n)\n",
    "print(q)"
   ]
  },
  {
   "cell_type": "markdown",
   "metadata": {},
   "source": [
    "### step 2: Prepare a periodic superposition\n",
    "$$\n",
    "{1\\over\\sqrt{2^n}}\\sum_{x=0}^{2^{n}-1} \\left|x\\right>\\left|0\\right>\n",
    "\\xrightarrow{\\text{POWN}}\n",
    "{1\\over\\sqrt{2^n}}\\sum_{x=0}^{2^{n}-1}\n",
    "\\left|x\\right>\\left|a^x(\\text{mod}\\, N)\\right>\n",
    "$$"
   ]
  },
  {
   "cell_type": "code",
   "execution_count": 8,
   "metadata": {},
   "outputs": [
    {
     "name": "stdout",
     "output_type": "stream",
     "text": [
      "add the second register\n",
      "+0.250       |0000>|0001>\n",
      "+0.250       |0001>|1101>\n",
      "+0.250       |0010>|0100>\n",
      "+0.250       |0011>|0111>\n",
      "+0.250       |0100>|0001>\n",
      "+0.250       |0101>|1101>\n",
      "+0.250       |0110>|0100>\n",
      "+0.250       |0111>|0111>\n",
      "+0.250       |1000>|0001>\n",
      "+0.250       |1001>|1101>\n",
      "+0.250       |1010>|0100>\n",
      "+0.250       |1011>|0111>\n",
      "+0.250       |1100>|0001>\n",
      "+0.250       |1101>|1101>\n",
      "+0.250       |1110>|0100>\n",
      "+0.250       |1111>|0111>\n",
      "\n"
     ]
    }
   ],
   "source": [
    "print('add the second register')\n",
    "q.add_ancillas(n)\n",
    "q.evol(gate='POWN', qbit=0)\n",
    "print(q)"
   ]
  },
  {
   "cell_type": "markdown",
   "metadata": {},
   "source": [
    "### step 3 (optional): measure the second register\n",
    "help to understand the algorithm\n",
    "\n",
    "$$\n",
    "{1\\over\\sqrt{2^n}}\\sum_{x=0}^{2^{n}-1}\n",
    "\\left|x\\right>\\left|a^x(\\text{mod}\\, N)\\right>\n",
    "\\xrightarrow{\\text{measure}[n:2n]}\n",
    "\\sqrt{r\\over{2^n}}\\sum_{i=0}^{{2^{n}\\over r}-1}\n",
    "\\left|ir + x_0\\right>\\left|a^{x_0}(\\text{mod}\\, N)\\right>\n",
    "$$\n"
   ]
  },
  {
   "cell_type": "code",
   "execution_count": 9,
   "metadata": {},
   "outputs": [
    {
     "name": "stdout",
     "output_type": "stream",
     "text": [
      "measure and remove the second register\n",
      "+0.500       |0000>\n",
      "+0.500       |0100>\n",
      "+0.500       |1000>\n",
      "+0.500       |1100>\n",
      "\n"
     ]
    }
   ],
   "source": [
    "print('measure and remove the second register')\n",
    "q.rm_ancillas() \n",
    "print(q)"
   ]
  },
  {
   "cell_type": "markdown",
   "metadata": {},
   "source": [
    "### step 4: fourier transform of the first register\n",
    "$$\n",
    "\\sqrt{r\\over{2^n}}\\sum_{i=0}^{{2^{n}\\over r}-1}\n",
    "\\left|ir + x_0\\right>\n",
    "\\xrightarrow{\\text{QFT}_n}\n",
    "{1\\over\\sqrt{r}}\\sum_{i=0}^{r-1}\\left|i{2^n\\over r}\\right>\\phi_i\n",
    "$$"
   ]
  },
  {
   "cell_type": "code",
   "execution_count": 10,
   "metadata": {},
   "outputs": [
    {
     "name": "stdout",
     "output_type": "stream",
     "text": [
      "+0.500       |0000>\n",
      "+0.500       |0100>\n",
      "+0.500       |1000>\n",
      "+0.500       |1100>\n",
      "\n"
     ]
    }
   ],
   "source": [
    "q.qft(qbegin=0, qend=n)\n",
    "print(q)"
   ]
  },
  {
   "cell_type": "markdown",
   "metadata": {},
   "source": [
    "### step 5: measure the first register and repeat the algorithm to measure distincts multiples of $2^n\\over r$"
   ]
  },
  {
   "cell_type": "code",
   "execution_count": 11,
   "metadata": {},
   "outputs": [
    {
     "name": "stdout",
     "output_type": "stream",
     "text": [
      "measurements results = [12, 8, 8, 4]\n"
     ]
    }
   ],
   "source": [
    "q.measure_all()\n",
    "c = q.bits()\n",
    "c = sum([m*2**i for m, i in zip(c, reversed(range(len(c))))])\n",
    "mea = [c]\n",
    "\n",
    "for _ in range(n-1):\n",
    "    seed = randint(0,10000)\n",
    "    q = QSystem(n, gates, seed)\n",
    "\n",
    "    q.evol('H', 0, n) # 1\n",
    "    q.add_ancillas(n)\n",
    "    q.evol('POWN', 0) # 2\n",
    "    q.rm_ancillas()\n",
    "    q.qft(0, n)       # 4\n",
    "    q.measure_all()   # 5\n",
    "\n",
    "    c = q.bits()\n",
    "    c = sum([m*2**i for m, i in zip(c, reversed(range(len(c))))])\n",
    "    mea.append(c)\n",
    "print('measurements results =', mea)"
   ]
  },
  {
   "cell_type": "markdown",
   "metadata": {},
   "source": [
    "### step 6: with the measurements compute \n",
    "$$\n",
    "r = {2^n\\over\\gcd(\\text{measurements})}\n",
    "$$"
   ]
  },
  {
   "cell_type": "code",
   "execution_count": 12,
   "metadata": {},
   "outputs": [
    {
     "data": {
      "text/latex": [
       "possible period $r = 4.0$"
      ],
      "text/plain": [
       "<IPython.core.display.Latex object>"
      ]
     },
     "metadata": {},
     "output_type": "display_data"
    }
   ],
   "source": [
    "c = mea[0]\n",
    "for m in mea:\n",
    "    c = gcd(c, m)\n",
    "if c == 0:\n",
    "    print('repite the period-finding algorithm')\n",
    "else:\n",
    "    r = 2**n/c\n",
    "    display(Latex('possible period $r = {}$'.format(r)))"
   ]
  },
  {
   "cell_type": "markdown",
   "metadata": {},
   "source": [
    "## step 3: if $r$ is odd go to step 1 else compute the two nontrivial factors of $N$, $pq = N$\n",
    "$$\n",
    "p = \\gcd(a^{r\\over2}-1, N)\n",
    "$$\n",
    "$$\n",
    "q = \\gcd(a^{r\\over2}+1, N)\n",
    "$$"
   ]
  },
  {
   "cell_type": "code",
   "execution_count": 13,
   "metadata": {},
   "outputs": [
    {
     "data": {
      "text/latex": [
       "$\\displaystyle 5*3=15$"
      ],
      "text/plain": [
       "<IPython.core.display.Math object>"
      ]
     },
     "metadata": {},
     "output_type": "display_data"
    }
   ],
   "source": [
    "if c == 0:\n",
    "    print('repite the period-finding algorithm')\n",
    "elif r % 2 == 1:\n",
    "    print('go to step 1')\n",
    "else: \n",
    "    p = gcd(int(a**(r/2)+1), N)\n",
    "    q = gcd(int(a**(r/2)-1), N)\n",
    "    display(Math('{}*{}={}'.format(p,q,p*q)))"
   ]
  }
 ],
 "metadata": {
  "kernelspec": {
   "display_name": "Python 3",
   "language": "python",
   "name": "python3"
  },
  "language_info": {
   "codemirror_mode": {
    "name": "ipython",
    "version": 3
   },
   "file_extension": ".py",
   "mimetype": "text/x-python",
   "name": "python",
   "nbconvert_exporter": "python",
   "pygments_lexer": "ipython3",
   "version": "3.7.2"
  }
 },
 "nbformat": 4,
 "nbformat_minor": 2
}
